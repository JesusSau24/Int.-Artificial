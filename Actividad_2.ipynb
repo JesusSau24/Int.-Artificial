{
  "nbformat": 4,
  "nbformat_minor": 0,
  "metadata": {
    "colab": {
      "provenance": []
    },
    "kernelspec": {
      "name": "python3",
      "display_name": "Python 3"
    },
    "language_info": {
      "name": "python"
    }
  },
  "cells": [
    {
      "cell_type": "markdown",
      "source": [
        "# ACTIVIDAD 2: Diseño de algoritmos en Python\n",
        "**Nombre**: Jesus Sauceda Rivera\n",
        "**Matricula**: 2014186\n",
        "**Hora**: N1 LMV"
      ],
      "metadata": {
        "id": "d_jEP_xH2sns"
      }
    },
    {
      "cell_type": "code",
      "source": [
        "def saludar_por_nombre():\n",
        "    nombre = input(\"Por favor, ingresa tu nombre: \")\n",
        "\n",
        "    if nombre.lower() == \"ana\" or nombre.lower() == \"juan\" or nombre.lower() == \"pedro\":\n",
        "        print(\"¡Hola! ¡Qué coincidencia verte por aquí!\")\n",
        "    else:\n",
        "        print(\"Hola, \" + nombre + \". ¡Bienvenido/a!\")\n",
        "\n",
        "saludar_por_nombre()"
      ],
      "metadata": {
        "colab": {
          "base_uri": "https://localhost:8080/"
        },
        "id": "VsMVs-x-3c4h",
        "outputId": "7a97ca79-f19c-45fc-906f-b0e56877ebca"
      },
      "execution_count": 2,
      "outputs": [
        {
          "output_type": "stream",
          "name": "stdout",
          "text": [
            "Por favor, ingresa tu nombre: juan\n",
            "¡Hola! ¡Qué coincidencia verte por aquí!\n"
          ]
        }
      ]
    },
    {
      "cell_type": "code",
      "source": [
        "def invertir_lista():\n",
        "    n = int(input(\"Ingrese la cantidad de elementos que desea en la lista: \"))\n",
        "    lista = []\n",
        "\n",
        "    for i in range(n):\n",
        "        elemento = input(\"Ingrese el elemento \" + str(i+1) + \": \")\n",
        "        lista.append(elemento)\n",
        "\n",
        "    lista_invertida = list(reversed(lista))\n",
        "\n",
        "    print(\"Lista original:\", lista)\n",
        "    print(\"Lista invertida:\", lista_invertida)\n",
        "\n",
        "invertir_lista()"
      ],
      "metadata": {
        "colab": {
          "base_uri": "https://localhost:8080/"
        },
        "id": "htUrTU3A5OUw",
        "outputId": "fc6a7ac1-47d5-4bb5-da81-8a230ac1d035"
      },
      "execution_count": 3,
      "outputs": [
        {
          "output_type": "stream",
          "name": "stdout",
          "text": [
            "Ingrese la cantidad de elementos que desea en la lista: 6\n",
            "Ingrese el elemento 1: 1\n",
            "Ingrese el elemento 2: 2\n",
            "Ingrese el elemento 3: 3\n",
            "Ingrese el elemento 4: 4\n",
            "Ingrese el elemento 5: 5\n",
            "Ingrese el elemento 6: 6\n",
            "Lista original: ['1', '2', '3', '4', '5', '6']\n",
            "Lista invertida: ['6', '5', '4', '3', '2', '1']\n"
          ]
        }
      ]
    },
    {
      "cell_type": "code",
      "source": [
        "def fibonacci(n):\n",
        "    fib = [0, 1]  # Inicializamos la lista con los dos primeros números de la serie de Fibonacci\n",
        "\n",
        "    # Generamos los siguientes números de la serie de Fibonacci\n",
        "    for i in range(2, n):\n",
        "        fib.append(fib[i-1] + fib[i-2])\n",
        "\n",
        "    return fib\n",
        "\n",
        "def main():\n",
        "    cantidad_numeros = int(input(\"Ingrese cuántos números de la serie de Fibonacci desea generar: \"))\n",
        "\n",
        "    if cantidad_numeros <= 0:\n",
        "        print(\"La cantidad de números debe ser un número positivo.\")\n",
        "        return\n",
        "\n",
        "    numeros_fibonacci = fibonacci(cantidad_numeros)\n",
        "    print(\"Los primeros\", cantidad_numeros, \"números de la serie de Fibonacci son:\")\n",
        "    print(numeros_fibonacci)\n",
        "\n",
        "main()"
      ],
      "metadata": {
        "colab": {
          "base_uri": "https://localhost:8080/"
        },
        "id": "rxszAqYb5oNJ",
        "outputId": "41380bd5-b173-479e-8ea3-d41d21167a0d"
      },
      "execution_count": 6,
      "outputs": [
        {
          "output_type": "stream",
          "name": "stdout",
          "text": [
            "Ingrese cuántos números de la serie de Fibonacci desea generar: 8\n",
            "Los primeros 8 números de la serie de Fibonacci son:\n",
            "[0, 1, 1, 2, 3, 5, 8, 13]\n"
          ]
        }
      ]
    },
    {
      "cell_type": "code",
      "source": [
        "import random\n",
        "\n",
        "def adivina_numero():\n",
        "    numero_objetivo = random.randint(1, 100)\n",
        "    intentos = 0\n",
        "\n",
        "    print(\"¡Bienvenido al juego de adivinar el número!\")\n",
        "    print(\"Tengo un número entre 1 y 100. ¡Adivina cuál es!\")\n",
        "\n",
        "    while True:\n",
        "        intento = int(input(\"Introduce tu suposición: \"))\n",
        "        intentos += 1\n",
        "\n",
        "        if intento < numero_objetivo:\n",
        "            print(\"El número que buscas es mayor.\")\n",
        "        elif intento > numero_objetivo:\n",
        "            print(\"El número que buscas es menor.\")\n",
        "        else:\n",
        "            print(f\"¡Felicidades! ¡Adivinaste el número en {intentos} intentos!\")\n",
        "            break\n",
        "\n",
        "if __name__ == \"__main__\":\n",
        "    adivina_numero()"
      ],
      "metadata": {
        "colab": {
          "base_uri": "https://localhost:8080/"
        },
        "id": "62c0kJXt6GP-",
        "outputId": "4ed5f987-cf95-4bed-b05c-743e84d2a24f"
      },
      "execution_count": 7,
      "outputs": [
        {
          "output_type": "stream",
          "name": "stdout",
          "text": [
            "¡Bienvenido al juego de adivinar el número!\n",
            "Tengo un número entre 1 y 100. ¡Adivina cuál es!\n",
            "Introduce tu suposición: 87\n",
            "El número que buscas es mayor.\n",
            "Introduce tu suposición: 92\n",
            "El número que buscas es menor.\n",
            "Introduce tu suposición: 90\n",
            "¡Felicidades! ¡Adivinaste el número en 3 intentos!\n"
          ]
        }
      ]
    },
    {
      "cell_type": "code",
      "source": [
        "def es_primo(numero):\n",
        "    if numero <= 1:\n",
        "        return False\n",
        "    for i in range(2, int(numero**0.5) + 1):\n",
        "        if numero % i == 0:\n",
        "            return False\n",
        "    return True\n",
        "\n",
        "def numeros_primos_en_rango(inicio, fin):\n",
        "    primos = []\n",
        "    for num in range(inicio, fin + 1):\n",
        "        if es_primo(num):\n",
        "            primos.append(num)\n",
        "    return primos\n",
        "\n",
        "if __name__ == \"__main__\":\n",
        "    inicio = int(input(\"Introduce el número inicial del rango: \"))\n",
        "    fin = int(input(\"Introduce el número final del rango: \"))\n",
        "\n",
        "    print(f\"Los números primos entre {inicio} y {fin} son:\")\n",
        "    primos_en_rango = numeros_primos_en_rango(inicio, fin)\n",
        "    print(primos_en_rango)"
      ],
      "metadata": {
        "colab": {
          "base_uri": "https://localhost:8080/"
        },
        "id": "bU6GjtRC7M9z",
        "outputId": "6873620c-4531-447f-b209-360006251af0"
      },
      "execution_count": 8,
      "outputs": [
        {
          "output_type": "stream",
          "name": "stdout",
          "text": [
            "Introduce el número inicial del rango: 15\n",
            "Introduce el número final del rango: 53\n",
            "Los números primos entre 15 y 53 son:\n",
            "[17, 19, 23, 29, 31, 37, 41, 43, 47, 53]\n"
          ]
        }
      ]
    },
    {
      "cell_type": "code",
      "source": [
        "def suma(a, b):\n",
        "    return a + b\n",
        "\n",
        "def resta(a, b):\n",
        "    return a - b\n",
        "\n",
        "def multiplicacion(a, b):\n",
        "    return a * b\n",
        "\n",
        "def division(a, b):\n",
        "    if b == 0:\n",
        "        return \"Error: No se puede dividir entre cero\"\n",
        "    else:\n",
        "        return a / b\n",
        "\n",
        "if __name__ == \"__main__\":\n",
        "    num1 = float(input(\"Introduce el primer número: \"))\n",
        "    num2 = float(input(\"Introduce el segundo número: \"))\n",
        "\n",
        "    print(\"Suma:\", suma(num1, num2))\n",
        "    print(\"Resta:\", resta(num1, num2))\n",
        "    print(\"Multiplicación:\", multiplicacion(num1, num2))\n",
        "    print(\"División:\", division(num1, num2))"
      ],
      "metadata": {
        "colab": {
          "base_uri": "https://localhost:8080/"
        },
        "id": "DDdpMeAV8q2X",
        "outputId": "b316ce73-da7e-4294-e54a-bb88cc221999"
      },
      "execution_count": 9,
      "outputs": [
        {
          "output_type": "stream",
          "name": "stdout",
          "text": [
            "Introduce el primer número: 10\n",
            "Introduce el segundo número: 5\n",
            "Suma: 15.0\n",
            "Resta: 5.0\n",
            "Multiplicación: 50.0\n",
            "División: 2.0\n"
          ]
        }
      ]
    }
  ]
}