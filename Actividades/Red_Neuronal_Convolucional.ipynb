{
  "nbformat": 4,
  "nbformat_minor": 0,
  "metadata": {
    "colab": {
      "provenance": []
    },
    "kernelspec": {
      "name": "python3",
      "display_name": "Python 3"
    },
    "language_info": {
      "name": "python"
    }
  },
  "cells": [
    {
      "cell_type": "markdown",
      "source": [
        "# ACTIVIDAD 6: REDES NEURONALES: Red neuronal convucional\n",
        "\n",
        "\n",
        "---\n",
        "\n",
        "\n",
        "Nombre: Jesus Sauceda Rivera.\n",
        "Matricula: 2014186.\n",
        "Hora clase: N1 LMV"
      ],
      "metadata": {
        "id": "dBCiMh56TapA"
      }
    },
    {
      "cell_type": "code",
      "source": [
        "import tensorflow as tf\n",
        "from tensorflow.keras.datasets import mnist\n",
        "from tensorflow.keras.models import Sequential\n",
        "from tensorflow.keras.layers import Conv2D, MaxPooling2D, Flatten, Dense\n",
        "from tensorflow.keras.utils import to_categorical"
      ],
      "metadata": {
        "id": "jYna5v_nTcfX"
      },
      "execution_count": 1,
      "outputs": []
    },
    {
      "cell_type": "code",
      "source": [
        "(train_data, train_labels), (test_data, test_labels) = mnist.load_data()"
      ],
      "metadata": {
        "colab": {
          "base_uri": "https://localhost:8080/"
        },
        "id": "Qz1j87YRTkwn",
        "outputId": "37804b22-92bf-4652-aeca-7a5d5b4416c6"
      },
      "execution_count": 2,
      "outputs": [
        {
          "output_type": "stream",
          "name": "stdout",
          "text": [
            "Downloading data from https://storage.googleapis.com/tensorflow/tf-keras-datasets/mnist.npz\n",
            "11490434/11490434 [==============================] - 0s 0us/step\n"
          ]
        }
      ]
    },
    {
      "cell_type": "code",
      "source": [
        "train_data = train_data.reshape((60000, 28, 28, 1)).astype('float32') / 255\n",
        "test_data = test_data.reshape((10000, 28, 28, 1)).astype('float32') / 255\n",
        "train_labels = to_categorical(train_labels)\n",
        "test_labels = to_categorical(test_labels)"
      ],
      "metadata": {
        "id": "XKVAcO21TyKJ"
      },
      "execution_count": 3,
      "outputs": []
    },
    {
      "cell_type": "code",
      "source": [
        "model = Sequential([\n",
        "    Conv2D(32, (3, 3), activation='relu', input_shape=(28, 28, 1)),\n",
        "    MaxPooling2D((2, 2)),\n",
        "    Conv2D(64, (3, 3), activation='relu'),\n",
        "    MaxPooling2D((2, 2)),\n",
        "    Flatten(),\n",
        "    Dense(64, activation='relu'),\n",
        "    Dense(10, activation='softmax')\n",
        "])"
      ],
      "metadata": {
        "id": "o7g4f5xfT3TV"
      },
      "execution_count": 4,
      "outputs": []
    },
    {
      "cell_type": "code",
      "source": [
        "model.compile(optimizer='adam',\n",
        "              loss='categorical_crossentropy',\n",
        "              metrics=['accuracy'])\n",
        "\n",
        "epochs = 10\n",
        "model.fit(train_data, train_labels, epochs=epochs, batch_size=64, validation_split=0.1)"
      ],
      "metadata": {
        "colab": {
          "base_uri": "https://localhost:8080/"
        },
        "id": "OUjitBqTT74D",
        "outputId": "eafff8f4-5a1d-49ba-e315-30cc2f5dbffd"
      },
      "execution_count": 6,
      "outputs": [
        {
          "output_type": "stream",
          "name": "stdout",
          "text": [
            "Epoch 1/10\n",
            "844/844 [==============================] - 42s 48ms/step - loss: 0.1999 - accuracy: 0.9391 - val_loss: 0.0589 - val_accuracy: 0.9835\n",
            "Epoch 2/10\n",
            "844/844 [==============================] - 40s 47ms/step - loss: 0.0573 - accuracy: 0.9823 - val_loss: 0.0508 - val_accuracy: 0.9848\n",
            "Epoch 3/10\n",
            "844/844 [==============================] - 38s 45ms/step - loss: 0.0401 - accuracy: 0.9872 - val_loss: 0.0419 - val_accuracy: 0.9885\n",
            "Epoch 4/10\n",
            "844/844 [==============================] - 41s 48ms/step - loss: 0.0304 - accuracy: 0.9904 - val_loss: 0.0447 - val_accuracy: 0.9878\n",
            "Epoch 5/10\n",
            "844/844 [==============================] - 36s 43ms/step - loss: 0.0240 - accuracy: 0.9920 - val_loss: 0.0353 - val_accuracy: 0.9893\n",
            "Epoch 6/10\n",
            "844/844 [==============================] - 37s 44ms/step - loss: 0.0175 - accuracy: 0.9941 - val_loss: 0.0428 - val_accuracy: 0.9895\n",
            "Epoch 7/10\n",
            "844/844 [==============================] - 39s 46ms/step - loss: 0.0145 - accuracy: 0.9953 - val_loss: 0.0353 - val_accuracy: 0.9892\n",
            "Epoch 8/10\n",
            "844/844 [==============================] - 39s 46ms/step - loss: 0.0113 - accuracy: 0.9964 - val_loss: 0.0363 - val_accuracy: 0.9900\n",
            "Epoch 9/10\n",
            "844/844 [==============================] - 37s 44ms/step - loss: 0.0098 - accuracy: 0.9966 - val_loss: 0.0422 - val_accuracy: 0.9900\n",
            "Epoch 10/10\n",
            "844/844 [==============================] - 38s 45ms/step - loss: 0.0088 - accuracy: 0.9971 - val_loss: 0.0371 - val_accuracy: 0.9915\n"
          ]
        },
        {
          "output_type": "execute_result",
          "data": {
            "text/plain": [
              "<keras.src.callbacks.History at 0x7c77606e11b0>"
            ]
          },
          "metadata": {},
          "execution_count": 6
        }
      ]
    },
    {
      "cell_type": "code",
      "source": [
        "test_loss, test_accuracy = model.evaluate(test_data, test_labels)\n",
        "print(f'Test accuracy: {test_accuracy}')"
      ],
      "metadata": {
        "colab": {
          "base_uri": "https://localhost:8080/"
        },
        "id": "kuNVWiz_WRYg",
        "outputId": "47cee228-fbbf-427d-aade-a46802269330"
      },
      "execution_count": 7,
      "outputs": [
        {
          "output_type": "stream",
          "name": "stdout",
          "text": [
            "313/313 [==============================] - 3s 8ms/step - loss: 0.0374 - accuracy: 0.9896\n",
            "Test accuracy: 0.9896000027656555\n"
          ]
        }
      ]
    },
    {
      "cell_type": "code",
      "source": [
        "import numpy as np\n",
        "\n",
        "predictions = model.predict(test_data[:5])\n",
        "for i in range(5):\n",
        "    print(f'Predicción: {np.argmax(predictions[i])}, Valor real: {np.argmax(test_labels[i])}')"
      ],
      "metadata": {
        "colab": {
          "base_uri": "https://localhost:8080/"
        },
        "id": "izEUQoRmWX8b",
        "outputId": "6af845a2-cc0c-491d-d558-10d958df3392"
      },
      "execution_count": 8,
      "outputs": [
        {
          "output_type": "stream",
          "name": "stdout",
          "text": [
            "1/1 [==============================] - 0s 167ms/step\n",
            "Predicción: 7, Valor real: 7\n",
            "Predicción: 2, Valor real: 2\n",
            "Predicción: 1, Valor real: 1\n",
            "Predicción: 0, Valor real: 0\n",
            "Predicción: 4, Valor real: 4\n"
          ]
        }
      ]
    },
    {
      "cell_type": "markdown",
      "source": [
        "## ¿Cuántas épocas usaste para mejorar el rendimiento del modelo en comparación con la red neuronal prealimentada de la actividad 5?\n",
        "### **R= Para la red neuronal retroalimentada utilice 5 epocas y para la convucional utilice 10 y consegui una exactitud muy similar en ambas redes.**\n",
        "---\n",
        "## ¿Obtuviste un mejor rendimiento con este modelo o con el de la actividad 5? ¿Por qué?\n",
        "### **R= Con el modelo de la actividad 5 ya que al aplicar 10 epocas la red neuronal se sesgó, por lo tanto se puede decir que aprende mas efectivamente el modelo de la actividad 5.**\n"
      ],
      "metadata": {
        "id": "VlR3Kx1cXuuE"
      }
    }
  ]
}